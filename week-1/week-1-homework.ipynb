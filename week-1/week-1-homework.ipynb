{
 "cells": [
  {
   "cell_type": "markdown",
   "metadata": {},
   "source": [
    "# Lede Algorithms -- Assignment 1\n",
    "\n",
    "In this assignment you will use a little algebra to figure out how to take the average of averages."
   ]
  },
  {
   "cell_type": "code",
   "execution_count": null,
   "metadata": {
    "collapsed": true
   },
   "outputs": [],
   "source": []
  },
  {
   "cell_type": "markdown",
   "metadata": {},
   "source": [
    "First, read in the titanic.csv data set."
   ]
  },
  {
   "cell_type": "code",
   "execution_count": null,
   "metadata": {
    "collapsed": true
   },
   "outputs": [],
   "source": []
  },
  {
   "cell_type": "markdown",
   "metadata": {},
   "source": [
    "Compute the average survival rate (mean of the `survived` column)"
   ]
  },
  {
   "cell_type": "code",
   "execution_count": null,
   "metadata": {
    "collapsed": true
   },
   "outputs": [],
   "source": []
  },
  {
   "cell_type": "markdown",
   "metadata": {},
   "source": [
    "Now compute the average survival rates of the male and female 1st, 2nd, and 3rd class passengers (six groups in total)"
   ]
  },
  {
   "cell_type": "code",
   "execution_count": null,
   "metadata": {
    "collapsed": true
   },
   "outputs": [],
   "source": []
  },
  {
   "cell_type": "markdown",
   "metadata": {},
   "source": [
    "Compute the average of these six averages. Is it the same as the the overall average?"
   ]
  },
  {
   "cell_type": "code",
   "execution_count": null,
   "metadata": {
    "collapsed": true
   },
   "outputs": [],
   "source": []
  },
  {
   "cell_type": "markdown",
   "metadata": {},
   "source": [
    "How would you compute the overall average from the average of averages? Start with the formulas\n",
    "\n",
    "$$mean = \\frac{\\sum_{i=1}^N x_i}{N}$$\n",
    "\n",
    "for the overall mean, where $x_i$ is data value $i$ and $N$ is the total number of values, and\n",
    "\n",
    "$$mean_k = \\frac{\\sum_{i=1}^{N_k} xk_i}{N_k}$$\n",
    "\n",
    "is the mean of group $k$, where $xk_i$ is value $i$ of group $k$ and $N_k$ is the number of values in group $k$. You may also wish to use this formula which relates the sum of all points to the sum of the groups:\n",
    "\n",
    "$$\\sum_{k=1}^M ( \\sum_{i=1}^{N_k} xk_i ) = \\sum_{i=1}^N x_i$$\n",
    "\n",
    "Your task is to derive a formula that computes $mean$ using only $mean_k$, the $N_k$, $M$, and $N$. Note: this question is not asking you to write code! Rather, you must answer two questions:\n",
    "\n",
    "- What is the correct formula?\n",
    "- How can we derive this formula starting from the formulas above?"
   ]
  },
  {
   "cell_type": "markdown",
   "metadata": {},
   "source": [
    "(your answer here)"
   ]
  },
  {
   "cell_type": "markdown",
   "metadata": {},
   "source": [
    "Now use this formula to calculate the overall mean. Does it match?"
   ]
  },
  {
   "cell_type": "code",
   "execution_count": null,
   "metadata": {
    "collapsed": true
   },
   "outputs": [],
   "source": []
  }
 ],
 "metadata": {
  "kernelspec": {
   "display_name": "Python 3",
   "language": "python",
   "name": "python3"
  },
  "language_info": {
   "codemirror_mode": {
    "name": "ipython",
    "version": 3
   },
   "file_extension": ".py",
   "mimetype": "text/x-python",
   "name": "python",
   "nbconvert_exporter": "python",
   "pygments_lexer": "ipython3",
   "version": "3.6.2"
  }
 },
 "nbformat": 4,
 "nbformat_minor": 2
}
